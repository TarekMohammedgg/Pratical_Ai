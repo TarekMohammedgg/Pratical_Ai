{
 "cells": [
  {
   "cell_type": "code",
   "execution_count": 11,
   "metadata": {},
   "outputs": [],
   "source": [
    "from transformers import pipeline"
   ]
  },
  {
   "cell_type": "code",
   "execution_count": 15,
   "metadata": {},
   "outputs": [
    {
     "name": "stdout",
     "output_type": "stream",
     "text": [
      "WARNING:tensorflow:From e:\\root\\Programming\\DataScienceRoadmap\\.venv\\Lib\\site-packages\\tf_keras\\src\\losses.py:2976: The name tf.losses.sparse_softmax_cross_entropy is deprecated. Please use tf.compat.v1.losses.sparse_softmax_cross_entropy instead.\n",
      "\n"
     ]
    },
    {
     "name": "stderr",
     "output_type": "stream",
     "text": [
      "e:\\root\\Programming\\DataScienceRoadmap\\.venv\\Lib\\site-packages\\huggingface_hub\\file_download.py:139: UserWarning: `huggingface_hub` cache-system uses symlinks by default to efficiently store duplicated files but your machine does not support them in C:\\Users\\USER\\.cache\\huggingface\\hub\\models--facebook--blenderbot-400M-distill. Caching files will still work but in a degraded version that might require more space on your disk. This warning can be disabled by setting the `HF_HUB_DISABLE_SYMLINKS_WARNING` environment variable. For more details, see https://huggingface.co/docs/huggingface_hub/how-to-cache#limitations.\n",
      "To support symlinks on Windows, you either need to activate Developer Mode or to run Python as an administrator. In order to activate developer mode, see this article: https://docs.microsoft.com/en-us/windows/apps/get-started/enable-your-device-for-development\n",
      "  warnings.warn(message)\n"
     ]
    },
    {
     "name": "stdout",
     "output_type": "stream",
     "text": [
      "WARNING:tensorflow:From e:\\root\\Programming\\DataScienceRoadmap\\.venv\\Lib\\site-packages\\tf_keras\\src\\backend.py:873: The name tf.get_default_graph is deprecated. Please use tf.compat.v1.get_default_graph instead.\n",
      "\n"
     ]
    }
   ],
   "source": [
    "chatbot = pipeline(task = 'text2text-generation' ,  model=\"facebook/blenderbot-400M-distill\")"
   ]
  },
  {
   "cell_type": "code",
   "execution_count": 21,
   "metadata": {},
   "outputs": [],
   "source": [
    "def run_conversation(user_input, history=\"\"):\n",
    "    # Append the new user input to the conversation history\n",
    "    if history:\n",
    "        history += \" \" + user_input\n",
    "    else:\n",
    "        history = user_input\n",
    "\n",
    "    # Get the response from the chatbot\n",
    "    response = chatbot(history)\n",
    "    \n",
    "    # Extract the chatbot's reply\n",
    "    chatbot_reply = response[0]['generated_text']\n",
    "    \n",
    "    # Return the chatbot's reply and updated conversation history\n",
    "    return chatbot_reply, history\n",
    "\n"
   ]
  },
  {
   "cell_type": "code",
   "execution_count": 23,
   "metadata": {},
   "outputs": [
    {
     "name": "stdout",
     "output_type": "stream",
     "text": [
      "You: hi , how are you ? \n",
      "Chatbot:  I am doing well, thank you. Tell me about yourself. What do you do for a living?\n",
      "You: don't care about me , tell me what is your name ? \n",
      "Chatbot:  my name is samantha , what is your name ? what do you do for a living ?\n",
      "You: my name is tarek , what is your job ? \n",
      "Chatbot:  I work in IT. What do you do for a living tarek? Do you have any siblings?\n",
      "You: exit \n",
      "Chatbot:  What is your favorite color? Mine is blue. I work in IT. What do you do?\n",
      "Goodbye!\n"
     ]
    }
   ],
   "source": [
    "while True:\n",
    "    user_input = input(\"You: \")  # Ask for user input\n",
    "\n",
    "    if user_input.lower() == \" \":  # If the user types \"exit\", break the loop\n",
    "        print(\"Goodbye!\")\n",
    "        break\n",
    "\n",
    "    # Get chatbot response and update the history\n",
    "    chatbot_reply, history = run_conversation(user_input, history)\n",
    "\n",
    "    # Print chatbot's reply\n",
    "    print(f\"You: {user_input}\" )\n",
    "    print(f\"Chatbot: {chatbot_reply}\")"
   ]
  },
  {
   "cell_type": "code",
   "execution_count": null,
   "metadata": {},
   "outputs": [],
   "source": []
  }
 ],
 "metadata": {
  "kernelspec": {
   "display_name": ".venv",
   "language": "python",
   "name": "python3"
  },
  "language_info": {
   "codemirror_mode": {
    "name": "ipython",
    "version": 3
   },
   "file_extension": ".py",
   "mimetype": "text/x-python",
   "name": "python",
   "nbconvert_exporter": "python",
   "pygments_lexer": "ipython3",
   "version": "3.12.6"
  }
 },
 "nbformat": 4,
 "nbformat_minor": 2
}
